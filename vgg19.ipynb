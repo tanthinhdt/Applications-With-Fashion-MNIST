{
 "cells": [
  {
   "attachments": {},
   "cell_type": "markdown",
   "metadata": {},
   "source": [
    "# VGG19"
   ]
  },
  {
   "cell_type": "code",
   "execution_count": 1,
   "metadata": {},
   "outputs": [],
   "source": [
    "from torch import optim\n",
    "from src.training import Training\n",
    "from src.evaluation import Evaluation\n",
    "from models.vgg.vgg19 import VGG19"
   ]
  },
  {
   "attachments": {},
   "cell_type": "markdown",
   "metadata": {},
   "source": [
    "## Model"
   ]
  },
  {
   "cell_type": "code",
   "execution_count": 2,
   "metadata": {},
   "outputs": [],
   "source": [
    "# declare model details\n",
    "model_params = {\n",
    "    'img_size': 32,\n",
    "    'img_channel': 1,\n",
    "    'n_classes': 10\n",
    "}\n",
    "model_ptt = VGG19"
   ]
  },
  {
   "attachments": {},
   "cell_type": "markdown",
   "metadata": {},
   "source": [
    "## Optimizer"
   ]
  },
  {
   "cell_type": "code",
   "execution_count": 3,
   "metadata": {},
   "outputs": [],
   "source": [
    "# declare optimizer details\n",
    "optimizer_params = {\n",
    "    'lr': 1e-2,\n",
    "    'momentum': 0.5\n",
    "}\n",
    "optimizer_ptt = optim.SGD"
   ]
  },
  {
   "attachments": {},
   "cell_type": "markdown",
   "metadata": {},
   "source": [
    "## Scheduler"
   ]
  },
  {
   "cell_type": "code",
   "execution_count": 4,
   "metadata": {},
   "outputs": [],
   "source": [
    "scheduler_params = None\n",
    "scheduler_ptt = None"
   ]
  },
  {
   "attachments": {},
   "cell_type": "markdown",
   "metadata": {},
   "source": [
    "## Training"
   ]
  },
  {
   "cell_type": "code",
   "execution_count": 5,
   "metadata": {},
   "outputs": [
    {
     "name": "stdout",
     "output_type": "stream",
     "text": [
      "['relu']\n",
      "['relu', 'relu']\n",
      "2 - [1, 64, 64]\n",
      "['relu', 'relu']\n",
      "2 - [64, 128, 128]\n",
      "['relu', 'relu']\n",
      "2 - [128, 256, 256, 256, 256]\n"
     ]
    },
    {
     "ename": "AssertionError",
     "evalue": "number of activation functions is invalid",
     "output_type": "error",
     "traceback": [
      "\u001b[1;31m---------------------------------------------------------------------------\u001b[0m",
      "\u001b[1;31mAssertionError\u001b[0m                            Traceback (most recent call last)",
      "Cell \u001b[1;32mIn[5], line 8\u001b[0m\n\u001b[0;32m      5\u001b[0m ckpt_dir \u001b[39m=\u001b[39m \u001b[39mr\u001b[39m\u001b[39m'\u001b[39m\u001b[39mcheckpoints/vgg/vgg19\u001b[39m\u001b[39m'\u001b[39m\n\u001b[0;32m      6\u001b[0m from_ckpt \u001b[39m=\u001b[39m \u001b[39mTrue\u001b[39;00m\n\u001b[1;32m----> 8\u001b[0m training \u001b[39m=\u001b[39m Training(data_dir\u001b[39m=\u001b[39;49mdata_dir, train_ratio\u001b[39m=\u001b[39;49mtrain_ratio, \n\u001b[0;32m      9\u001b[0m                     interpolate\u001b[39m=\u001b[39;49minterpolate, ckpt_dir\u001b[39m=\u001b[39;49mckpt_dir, from_ckpt\u001b[39m=\u001b[39;49mfrom_ckpt,\n\u001b[0;32m     10\u001b[0m                     model_ptt\u001b[39m=\u001b[39;49mmodel_ptt, model_params\u001b[39m=\u001b[39;49mmodel_params,\n\u001b[0;32m     11\u001b[0m                     optimizer_ptt\u001b[39m=\u001b[39;49moptimizer_ptt, optimizer_params\u001b[39m=\u001b[39;49moptimizer_params,\n\u001b[0;32m     12\u001b[0m                     scheduler_ptt\u001b[39m=\u001b[39;49mscheduler_ptt, scheduler_params\u001b[39m=\u001b[39;49mscheduler_params)\n\u001b[0;32m     13\u001b[0m training\u001b[39m.\u001b[39mmodel\u001b[39m.\u001b[39mget_summary()\n",
      "File \u001b[1;32md:\\Projects\\applications-with-fashion-mnist\\src\\training.py:31\u001b[0m, in \u001b[0;36mTraining.__init__\u001b[1;34m(self, data_dir, train_ratio, interpolate, ckpt_dir, from_ckpt, model_ptt, model_params, optimizer_ptt, optimizer_params, scheduler_ptt, scheduler_params)\u001b[0m\n\u001b[0;32m     28\u001b[0m     checkpoint \u001b[39m=\u001b[39m torch\u001b[39m.\u001b[39mload(ckpt_path)\n\u001b[0;32m     30\u001b[0m \u001b[39mself\u001b[39m\u001b[39m.\u001b[39mmodel_params \u001b[39m=\u001b[39m model_params\n\u001b[1;32m---> 31\u001b[0m \u001b[39mself\u001b[39m\u001b[39m.\u001b[39mmodel \u001b[39m=\u001b[39m \u001b[39mself\u001b[39;49m\u001b[39m.\u001b[39;49mget_model(model_ptt\u001b[39m=\u001b[39;49mmodel_ptt,\n\u001b[0;32m     32\u001b[0m                             model_params\u001b[39m=\u001b[39;49mmodel_params,\n\u001b[0;32m     33\u001b[0m                             checkpoint\u001b[39m=\u001b[39;49mcheckpoint)\u001b[39m.\u001b[39mto(\u001b[39mself\u001b[39m\u001b[39m.\u001b[39mdevice)\n\u001b[0;32m     34\u001b[0m \u001b[39mself\u001b[39m\u001b[39m.\u001b[39moptimizer \u001b[39m=\u001b[39m \u001b[39mself\u001b[39m\u001b[39m.\u001b[39mget_optimizer(optimizer_ptt\u001b[39m=\u001b[39moptimizer_ptt,\n\u001b[0;32m     35\u001b[0m                                     optimizer_params\u001b[39m=\u001b[39moptimizer_params,\n\u001b[0;32m     36\u001b[0m                                     checkpoint\u001b[39m=\u001b[39mcheckpoint)\n\u001b[0;32m     37\u001b[0m \u001b[39mif\u001b[39;00m scheduler_ptt \u001b[39mand\u001b[39;00m scheduler_params:\n",
      "File \u001b[1;32md:\\Projects\\applications-with-fashion-mnist\\src\\training.py:50\u001b[0m, in \u001b[0;36mTraining.get_model\u001b[1;34m(self, model_ptt, model_params, checkpoint)\u001b[0m\n\u001b[0;32m     49\u001b[0m \u001b[39mdef\u001b[39;00m \u001b[39mget_model\u001b[39m(\u001b[39mself\u001b[39m, model_ptt, model_params, checkpoint\u001b[39m=\u001b[39m\u001b[39mNone\u001b[39;00m):\n\u001b[1;32m---> 50\u001b[0m     model \u001b[39m=\u001b[39m model_ptt(\u001b[39m*\u001b[39m\u001b[39m*\u001b[39mmodel_params)\n\u001b[0;32m     51\u001b[0m     \u001b[39mif\u001b[39;00m checkpoint:\n\u001b[0;32m     52\u001b[0m         model\u001b[39m.\u001b[39mload_state_dict(checkpoint[\u001b[39m'\u001b[39m\u001b[39mmodel_state_dict\u001b[39m\u001b[39m'\u001b[39m])\n",
      "File \u001b[1;32md:\\Projects\\applications-with-fashion-mnist\\models\\vgg\\vgg19.py:52\u001b[0m, in \u001b[0;36mVGG19.__init__\u001b[1;34m(self, img_size, img_channel, n_classes)\u001b[0m\n\u001b[0;32m     50\u001b[0m cnn_block3_strides \u001b[39m=\u001b[39m [\u001b[39m1\u001b[39m]\n\u001b[0;32m     51\u001b[0m cnn_block3_paddings \u001b[39m=\u001b[39m [\u001b[39m1\u001b[39m]\n\u001b[1;32m---> 52\u001b[0m \u001b[39mself\u001b[39m\u001b[39m.\u001b[39mfeatures\u001b[39m.\u001b[39mextend(CNNBlock(channels\u001b[39m=\u001b[39;49mcnn_block3_channels,\n\u001b[0;32m     53\u001b[0m                               kernel_sizes\u001b[39m=\u001b[39;49mcnn_block3_kernel_sizes,\n\u001b[0;32m     54\u001b[0m                               strides\u001b[39m=\u001b[39;49mcnn_block3_strides,\n\u001b[0;32m     55\u001b[0m                               paddings\u001b[39m=\u001b[39;49mcnn_block3_paddings)\u001b[39m.\u001b[39mget_block())\n\u001b[0;32m     57\u001b[0m \u001b[39m# max pooling layer with kernel size 2x2, stride 2\u001b[39;00m\n\u001b[0;32m     58\u001b[0m \u001b[39mself\u001b[39m\u001b[39m.\u001b[39mfeatures\u001b[39m.\u001b[39mappend(nn\u001b[39m.\u001b[39mMaxPool2d(kernel_size\u001b[39m=\u001b[39m\u001b[39m2\u001b[39m, strides\u001b[39m=\u001b[39m\u001b[39m2\u001b[39m))\n",
      "File \u001b[1;32md:\\Projects\\applications-with-fashion-mnist\\models\\cnn_block.py:28\u001b[0m, in \u001b[0;36mCNNBlock.__init__\u001b[1;34m(self, channels, kernel_sizes, strides, paddings, activations)\u001b[0m\n\u001b[0;32m     26\u001b[0m     \u001b[39mprint\u001b[39m(activations)\n\u001b[0;32m     27\u001b[0m \u001b[39mprint\u001b[39m(\u001b[39mf\u001b[39m\u001b[39m'\u001b[39m\u001b[39m{\u001b[39;00m\u001b[39mlen\u001b[39m(activations)\u001b[39m}\u001b[39;00m\u001b[39m - \u001b[39m\u001b[39m{\u001b[39;00mchannels\u001b[39m}\u001b[39;00m\u001b[39m'\u001b[39m)\n\u001b[1;32m---> 28\u001b[0m \u001b[39massert\u001b[39;00m \u001b[39mlen\u001b[39m(activations) \u001b[39m==\u001b[39m n_layers, \u001b[39m\"\u001b[39m\u001b[39mnumber of activation functions is invalid\u001b[39m\u001b[39m\"\u001b[39m\n\u001b[0;32m     30\u001b[0m \u001b[39mself\u001b[39m\u001b[39m.\u001b[39mactivation_dict \u001b[39m=\u001b[39m {\n\u001b[0;32m     31\u001b[0m     \u001b[39m'\u001b[39m\u001b[39msigmoid\u001b[39m\u001b[39m'\u001b[39m: nn\u001b[39m.\u001b[39mSigmoid(),\n\u001b[0;32m     32\u001b[0m     \u001b[39m'\u001b[39m\u001b[39mtanh\u001b[39m\u001b[39m'\u001b[39m: nn\u001b[39m.\u001b[39mTanh(),\n\u001b[0;32m     33\u001b[0m     \u001b[39m'\u001b[39m\u001b[39mrelu\u001b[39m\u001b[39m'\u001b[39m: nn\u001b[39m.\u001b[39mReLU(),\n\u001b[0;32m     34\u001b[0m }\n\u001b[0;32m     36\u001b[0m \u001b[39mfor\u001b[39;00m i, (in_channel, out_channel) \u001b[39min\u001b[39;00m \u001b[39menumerate\u001b[39m(\u001b[39mzip\u001b[39m(channels, channels[\u001b[39m1\u001b[39m:])):\n",
      "\u001b[1;31mAssertionError\u001b[0m: number of activation functions is invalid"
     ]
    }
   ],
   "source": [
    "# initialize learning process\n",
    "data_dir = r'data/final'\n",
    "train_ratio = 0.9\n",
    "interpolate = 32\n",
    "ckpt_dir = r'checkpoints/vgg/vgg19'\n",
    "from_ckpt = True\n",
    "\n",
    "training = Training(data_dir=data_dir, train_ratio=train_ratio, \n",
    "                    interpolate=interpolate, ckpt_dir=ckpt_dir, from_ckpt=from_ckpt,\n",
    "                    model_ptt=model_ptt, model_params=model_params,\n",
    "                    optimizer_ptt=optimizer_ptt, optimizer_params=optimizer_params,\n",
    "                    scheduler_ptt=scheduler_ptt, scheduler_params=scheduler_params)\n",
    "training.model.get_summary()"
   ]
  },
  {
   "cell_type": "code",
   "execution_count": null,
   "metadata": {},
   "outputs": [],
   "source": [
    "# start learning\n",
    "epochs = 130\n",
    "save_every = 10\n",
    "batch_sizes = [128, 256]\n",
    "train_history = training.train(epochs=epochs, save_every=save_every,\n",
    "                               batch_sizes=batch_sizes)"
   ]
  },
  {
   "cell_type": "code",
   "execution_count": null,
   "metadata": {},
   "outputs": [],
   "source": [
    "# plot training loss and validation accuracy\n",
    "training.plot_results()"
   ]
  },
  {
   "attachments": {},
   "cell_type": "markdown",
   "metadata": {},
   "source": [
    "## Evaluation"
   ]
  },
  {
   "cell_type": "code",
   "execution_count": null,
   "metadata": {},
   "outputs": [],
   "source": [
    "# evaluate model through accuracy, f1-score and confusion matrix\n",
    "model = training.model\n",
    "evaluation = Evaluation(data_dir=data_dir, interpolate=interpolate, model=model)\n",
    "evaluation.evaluate()\n",
    "evaluation.plot_results()"
   ]
  }
 ],
 "metadata": {
  "kernelspec": {
   "display_name": "base",
   "language": "python",
   "name": "python3"
  },
  "language_info": {
   "codemirror_mode": {
    "name": "ipython",
    "version": 3
   },
   "file_extension": ".py",
   "mimetype": "text/x-python",
   "name": "python",
   "nbconvert_exporter": "python",
   "pygments_lexer": "ipython3",
   "version": "3.10.9"
  },
  "orig_nbformat": 4
 },
 "nbformat": 4,
 "nbformat_minor": 2
}
