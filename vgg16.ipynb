{
 "cells": [
  {
   "attachments": {},
   "cell_type": "markdown",
   "metadata": {},
   "source": [
    "# VGG16"
   ]
  },
  {
   "cell_type": "code",
   "execution_count": 1,
   "metadata": {},
   "outputs": [],
   "source": [
    "from torch import optim\n",
    "import sys\n",
    "from src.training import Training\n",
    "from models.vgg.vgg16 import VGG16"
   ]
  },
  {
   "cell_type": "code",
   "execution_count": 2,
   "metadata": {},
   "outputs": [],
   "source": [
    "# Create model\n",
    "img_size = 32\n",
    "img_channel = 1\n",
    "n_classes = 10\n",
    "model = VGG16(img_size=img_size, img_channel=img_channel, n_classes=n_classes)\n",
    "#model.get_summary()"
   ]
  },
  {
   "cell_type": "code",
   "execution_count": 3,
   "metadata": {},
   "outputs": [
    {
     "data": {
      "text/plain": [
       "'d:\\\\Projects\\\\applications-with-fashion-mnist'"
      ]
     },
     "execution_count": 3,
     "metadata": {},
     "output_type": "execute_result"
    }
   ],
   "source": [
    "%pwd"
   ]
  },
  {
   "cell_type": "code",
   "execution_count": 4,
   "metadata": {},
   "outputs": [
    {
     "name": "stdout",
     "output_type": "stream",
     "text": [
      "Downloading http://fashion-mnist.s3-website.eu-central-1.amazonaws.com/train-images-idx3-ubyte.gz\n",
      "Downloading http://fashion-mnist.s3-website.eu-central-1.amazonaws.com/train-images-idx3-ubyte.gz to data/final\\FashionMNIST\\raw\\train-images-idx3-ubyte.gz\n"
     ]
    },
    {
     "name": "stderr",
     "output_type": "stream",
     "text": [
      "100%|██████████| 26421880/26421880 [00:08<00:00, 2954122.01it/s]\n"
     ]
    },
    {
     "name": "stdout",
     "output_type": "stream",
     "text": [
      "Extracting data/final\\FashionMNIST\\raw\\train-images-idx3-ubyte.gz to data/final\\FashionMNIST\\raw\n",
      "\n",
      "Downloading http://fashion-mnist.s3-website.eu-central-1.amazonaws.com/train-labels-idx1-ubyte.gz\n",
      "Downloading http://fashion-mnist.s3-website.eu-central-1.amazonaws.com/train-labels-idx1-ubyte.gz to data/final\\FashionMNIST\\raw\\train-labels-idx1-ubyte.gz\n"
     ]
    },
    {
     "name": "stderr",
     "output_type": "stream",
     "text": [
      "100%|██████████| 29515/29515 [00:00<00:00, 127179.77it/s]\n"
     ]
    },
    {
     "name": "stdout",
     "output_type": "stream",
     "text": [
      "Extracting data/final\\FashionMNIST\\raw\\train-labels-idx1-ubyte.gz to data/final\\FashionMNIST\\raw\n",
      "\n",
      "Downloading http://fashion-mnist.s3-website.eu-central-1.amazonaws.com/t10k-images-idx3-ubyte.gz\n",
      "Downloading http://fashion-mnist.s3-website.eu-central-1.amazonaws.com/t10k-images-idx3-ubyte.gz to data/final\\FashionMNIST\\raw\\t10k-images-idx3-ubyte.gz\n"
     ]
    },
    {
     "name": "stderr",
     "output_type": "stream",
     "text": [
      "100%|██████████| 4422102/4422102 [00:02<00:00, 2167255.87it/s]\n"
     ]
    },
    {
     "name": "stdout",
     "output_type": "stream",
     "text": [
      "Extracting data/final\\FashionMNIST\\raw\\t10k-images-idx3-ubyte.gz to data/final\\FashionMNIST\\raw\n",
      "\n",
      "Downloading http://fashion-mnist.s3-website.eu-central-1.amazonaws.com/t10k-labels-idx1-ubyte.gz\n",
      "Downloading http://fashion-mnist.s3-website.eu-central-1.amazonaws.com/t10k-labels-idx1-ubyte.gz to data/final\\FashionMNIST\\raw\\t10k-labels-idx1-ubyte.gz\n"
     ]
    },
    {
     "name": "stderr",
     "output_type": "stream",
     "text": [
      "100%|██████████| 5148/5148 [00:00<?, ?it/s]\n"
     ]
    },
    {
     "name": "stdout",
     "output_type": "stream",
     "text": [
      "Extracting data/final\\FashionMNIST\\raw\\t10k-labels-idx1-ubyte.gz to data/final\\FashionMNIST\\raw\n",
      "\n"
     ]
    },
    {
     "name": "stderr",
     "output_type": "stream",
     "text": [
      "Epochs:   0%|          | 0/100 [00:00<?, ?epoch/s]c:\\Users\\Admin\\miniconda3\\lib\\site-packages\\torchvision\\transforms\\functional.py:1603: UserWarning: The default value of the antialias parameter of all the resizing transforms (Resize(), RandomResizedCrop(), etc.) will change from None to True in v0.17, in order to be consistent across the PIL and Tensor backends. To suppress this warning, directly pass antialias=True (recommended, future default), antialias=None (current default, which means False for Tensors and True for PIL), or antialias=False (only works on Tensors - PIL will still use antialiasing). This also applies if you are using the inference transforms from the models weights: update the call to weights.transforms(antialias=True).\n",
      "  warnings.warn(\n",
      "Epochs:   4%|▍         | 4/100 [03:56<1:33:51, 58.67s/epoch]"
     ]
    }
   ],
   "source": [
    "# Create optimizer\n",
    "lr = 0.001\n",
    "momentum = 0.9\n",
    "optimizer = optim.SGD(params=model.parameters(), lr=lr, momentum=momentum)\n",
    "\n",
    "# Create scheduler\n",
    "step_size = 10\n",
    "gamma = 0.1\n",
    "scheduler = optim.lr_scheduler.StepLR(optimizer=optimizer,\n",
    "                                      step_size=step_size, gamma=gamma)\n",
    "\n",
    "# Start training\n",
    "data_dir = r'data/final'\n",
    "ckpt_dir = r'checkpoints/vgg/vgg16_2'\n",
    "train_ratio = 0.8\n",
    "interpolate = True\n",
    "training = Training(data_dir=data_dir, ckpt_dir=ckpt_dir, train_ratio=train_ratio,\n",
    "                    interpolate=interpolate, img_size=img_size,\n",
    "                    model=model, optimizer=optimizer, scheduler=scheduler)\n",
    "\n",
    "epochs = 100\n",
    "save_every = 10\n",
    "batch_sizes = [64, 128]\n",
    "shuffle = True\n",
    "training.train(epochs=epochs, save_every=save_every,\n",
    "               batch_sizes=batch_sizes, shuffle=shuffle)"
   ]
  },
  {
   "cell_type": "code",
   "execution_count": null,
   "metadata": {},
   "outputs": [],
   "source": [
    "# Create optimizer\n",
    "lr = 0.001\n",
    "momentum = 0.9\n",
    "optimizer = optim.AdamW(params=model.parameters(), lr=lr, momentum=momentum)\n",
    "\n",
    "# Create scheduler\n",
    "step_size = 10\n",
    "gamma = 0.1\n",
    "scheduler = optim.lr_scheduler.StepLR(optimizer=optimizer,\n",
    "                                      step_size=step_size, gamma=gamma)\n",
    "\n",
    "# Start training\n",
    "data_dir = r'../data/final'\n",
    "ckpt_dir = r'../checkpoints/vgg/vgg16_2'\n",
    "train_ratio = 0.8\n",
    "interpolate = True\n",
    "training = Training(data_dir=data_dir, ckpt_dir=ckpt_dir, train_ratio=train_ratio,\n",
    "                    interpolate=interpolate, img_size=img_size,\n",
    "                    model=model, optimizer=optimizer, scheduler=scheduler)\n",
    "\n",
    "epochs = 100\n",
    "save_every = 10\n",
    "batch_sizes = [128, 256]\n",
    "shuffle = True\n",
    "training.train(epochs=epochs, save_every=save_every,\n",
    "               batch_sizes=batch_sizes, shuffle=shuffle)"
   ]
  }
 ],
 "metadata": {
  "kernelspec": {
   "display_name": "base",
   "language": "python",
   "name": "python3"
  },
  "language_info": {
   "codemirror_mode": {
    "name": "ipython",
    "version": 3
   },
   "file_extension": ".py",
   "mimetype": "text/x-python",
   "name": "python",
   "nbconvert_exporter": "python",
   "pygments_lexer": "ipython3",
   "version": "3.10.9"
  },
  "orig_nbformat": 4
 },
 "nbformat": 4,
 "nbformat_minor": 2
}
