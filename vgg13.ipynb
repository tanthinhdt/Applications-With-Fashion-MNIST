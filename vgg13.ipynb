{
 "cells": [
  {
   "attachments": {},
   "cell_type": "markdown",
   "metadata": {},
   "source": [
    "# VGG13"
   ]
  },
  {
   "cell_type": "code",
   "execution_count": 1,
   "metadata": {},
   "outputs": [],
   "source": [
    "from torch import optim\n",
    "from src.training import Training\n",
    "from src.evaluation import Evaluation\n",
    "from models.vgg.vgg13 import VGG13"
   ]
  },
  {
   "attachments": {},
   "cell_type": "markdown",
   "metadata": {},
   "source": [
    "## Model"
   ]
  },
  {
   "cell_type": "code",
   "execution_count": 2,
   "metadata": {},
   "outputs": [],
   "source": [
    "# declare model details\n",
    "model_params = {\n",
    "    'img_size': 32,\n",
    "    'img_channel': 1,\n",
    "    'n_classes': 10\n",
    "}\n",
    "model_ptt = VGG13"
   ]
  },
  {
   "attachments": {},
   "cell_type": "markdown",
   "metadata": {},
   "source": [
    "## Optimizer"
   ]
  },
  {
   "cell_type": "code",
   "execution_count": null,
   "metadata": {},
   "outputs": [],
   "source": [
    "# declare optimizer details\n",
    "optimizer_params = {\n",
    "    'lr': 1e-2,\n",
    "    'momentum': 0.5\n",
    "}\n",
    "optimizer_ptt = optim.SGD"
   ]
  },
  {
   "attachments": {},
   "cell_type": "markdown",
   "metadata": {},
   "source": [
    "## Scheduler"
   ]
  },
  {
   "cell_type": "code",
   "execution_count": null,
   "metadata": {},
   "outputs": [],
   "source": [
    "scheduler_params = None\n",
    "scheduler_ptt = None"
   ]
  },
  {
   "attachments": {},
   "cell_type": "markdown",
   "metadata": {},
   "source": [
    "## Training"
   ]
  },
  {
   "cell_type": "code",
   "execution_count": null,
   "metadata": {},
   "outputs": [],
   "source": [
    "# initialize learning process\n",
    "data_dir = r'data/final'\n",
    "train_ratio = 0.9\n",
    "interpolate = 32\n",
    "ckpt_dir = r'checkpoints/vgg/vgg13'\n",
    "from_ckpt = False\n",
    "\n",
    "training = Training(data_dir=data_dir, train_ratio=train_ratio, \n",
    "                    interpolate=interpolate, ckpt_dir=ckpt_dir, from_ckpt=from_ckpt,\n",
    "                    model_ptt=model_ptt, model_params=model_params,\n",
    "                    optimizer_ptt=optimizer_ptt, optimizer_params=optimizer_params,\n",
    "                    scheduler_ptt=scheduler_ptt, scheduler_params=scheduler_params)\n",
    "training.model.get_summary()"
   ]
  },
  {
   "cell_type": "code",
   "execution_count": null,
   "metadata": {},
   "outputs": [],
   "source": [
    "# start learning\n",
    "epochs = 200\n",
    "save_every = 10\n",
    "batch_sizes = [128, 256]\n",
    "train_history = training.train(epochs=epochs, save_every=save_every,\n",
    "                               batch_sizes=batch_sizes)"
   ]
  },
  {
   "cell_type": "code",
   "execution_count": null,
   "metadata": {},
   "outputs": [],
   "source": [
    "# plot training loss and validation accuracy\n",
    "training.plot_results()"
   ]
  },
  {
   "attachments": {},
   "cell_type": "markdown",
   "metadata": {},
   "source": [
    "## Evaluation"
   ]
  },
  {
   "cell_type": "code",
   "execution_count": null,
   "metadata": {},
   "outputs": [],
   "source": [
    "# evaluate model through accuracy, f1-score and confusion matrix\n",
    "model = training.model\n",
    "evaluation = Evaluation(data_dir=data_dir, interpolate=interpolate, model=model)\n",
    "evaluation.evaluate()\n",
    "evaluation.plot_results()"
   ]
  }
 ],
 "metadata": {
  "kernelspec": {
   "display_name": "base",
   "language": "python",
   "name": "python3"
  },
  "language_info": {
   "codemirror_mode": {
    "name": "ipython",
    "version": 3
   },
   "file_extension": ".py",
   "mimetype": "text/x-python",
   "name": "python",
   "nbconvert_exporter": "python",
   "pygments_lexer": "ipython3",
   "version": "3.10.9"
  },
  "orig_nbformat": 4
 },
 "nbformat": 4,
 "nbformat_minor": 2
}
